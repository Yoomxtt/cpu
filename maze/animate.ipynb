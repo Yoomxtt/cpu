{
 "cells": [
  {
   "cell_type": "code",
   "execution_count": null,
   "id": "160cc1b6",
   "metadata": {},
   "outputs": [],
   "source": [
    "import numpy as np\n",
    "import matplotlib.pyplot as plt\n",
    "import matplotlib.patches as mpatches\n",
    "import matplotlib as mpl\n",
    "from skimage.segmentation import flood_fill\n",
    "\n",
    "def box(width, height):\n",
    "    arr = np.zeros((height, width), dtype=np.uint8)\n",
    "    # walls\n",
    "    arr[0] = 1\n",
    "    arr[-1] = 1\n",
    "    arr[..., 0] = 1\n",
    "    arr[..., -1] = 1\n",
    "    arr[0, 1] = 2\n",
    "    arr[-1, -2] = 2\n",
    "    return arr\n",
    "\n",
    "palette = mpl.cm.inferno.resampled(3).colors\n",
    "labels = [\"0: unfilled\", \"1: wall\", \"2: passage\"]\n",
    "\n",
    "fig = plt.figure(figsize=(9,6))\n",
    "\n",
    "def show(arr):\n",
    "    im = plt.imshow(palette[arr])\n",
    "    patches = [mpatches.Patch(color=c, label=l) for c, l in zip(palette, labels)]\n",
    "    plt.legend(handles=patches, bbox_to_anchor=(1.1, 1), loc=2, borderaxespad=0)\n",
    "    return im\n",
    "\n",
    "arr = box(9, 9)\n",
    "unfilled = np.swapaxes(np.where(arr == 0), 0, 1)\n",
    "np.random.shuffle(unfilled)\n",
    "\n",
    "start = next(zip(*np.where(arr == 2)))\n",
    "arr = np.copy(arr)\n",
    "arr[arr == 2] = 0\n",
    "\n",
    "def maze_step(lc):\n",
    "    lc = tuple(lc)\n",
    "    arr[lc] = 1\n",
    "    t = flood_fill(arr, start, 1)\n",
    "    if np.any(t == 0):\n",
    "        arr[lc] = 0\n",
    "    return show(arr),\n",
    "\n",
    "anim = FuncAnimation(fig, maze_step, frames=unfilled, interval=20, repeat=False)\n",
    "plt.show()"
   ]
  },
  {
   "cell_type": "code",
   "execution_count": null,
   "id": "de9d62d2",
   "metadata": {},
   "outputs": [],
   "source": []
  }
 ],
 "metadata": {
  "kernelspec": {
   "display_name": "Python 3",
   "language": "python",
   "name": "python3"
  },
  "language_info": {
   "codemirror_mode": {
    "name": "ipython",
    "version": 3
   },
   "file_extension": ".py",
   "mimetype": "text/x-python",
   "name": "python",
   "nbconvert_exporter": "python",
   "pygments_lexer": "ipython3",
   "version": "3.8.10"
  }
 },
 "nbformat": 4,
 "nbformat_minor": 5
}
