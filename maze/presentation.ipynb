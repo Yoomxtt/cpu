{
 "cells": [
  {
   "cell_type": "code",
   "execution_count": null,
   "id": "c8b3c87e",
   "metadata": {},
   "outputs": [],
   "source": [
    "import numpy as np\n",
    "import matplotlib.pyplot as plt\n",
    "import matplotlib.patches as mpatches\n",
    "import matplotlib as mpl\n",
    "from skimage.segmentation import flood_fill\n",
    "from skimage.io import imread\n",
    "from skimage.color import rgb2gray\n",
    "from skimage.transform import resize"
   ]
  },
  {
   "cell_type": "code",
   "execution_count": null,
   "id": "aec9c8f7",
   "metadata": {
    "slideshow": {
     "slide_type": "subslide"
    }
   },
   "outputs": [],
   "source": [
    "def box(height, width):\n",
    "    arr = np.zeros((height, width), dtype=np.uint8)\n",
    "    # walls\n",
    "    arr[0] = 1\n",
    "    arr[-1] = 1\n",
    "    arr[..., 0] = 1\n",
    "    arr[..., -1] = 1\n",
    "    arr[0, 1] = 2\n",
    "    arr[-1, -2] = 2\n",
    "    return arr\n",
    "\n",
    "b = box(6, 6)\n",
    "b"
   ]
  },
  {
   "cell_type": "code",
   "execution_count": null,
   "id": "93ce5a24",
   "metadata": {},
   "outputs": [],
   "source": [
    "mpl.cm.inferno.resampled(3)"
   ]
  },
  {
   "cell_type": "code",
   "execution_count": null,
   "id": "6b81b0bd",
   "metadata": {
    "slideshow": {
     "slide_type": "subslide"
    }
   },
   "outputs": [],
   "source": [
    "mpl.cm.viridis.resampled(3)"
   ]
  },
  {
   "cell_type": "code",
   "execution_count": null,
   "id": "7962593a",
   "metadata": {
    "slideshow": {
     "slide_type": "subslide"
    }
   },
   "outputs": [],
   "source": [
    "mpl.cm.cividis.resampled(3)"
   ]
  },
  {
   "cell_type": "code",
   "execution_count": null,
   "id": "10c94396",
   "metadata": {},
   "outputs": [],
   "source": [
    "palette = mpl.cm.inferno.resampled(3).colors\n",
    "labels = [\"0: unfilled\", \"1: wall\", \"2: passage\"]\n",
    "\n",
    "def show(arr):\n",
    "    plt.figure(figsize=(9, 9))\n",
    "    im = plt.imshow(palette[arr])\n",
    "    patches = [mpatches.Patch(color=c, label=l) for c, l in zip(palette, labels)]\n",
    "    plt.legend(handles=patches, bbox_to_anchor=(1.1, 1), loc=2, borderaxespad=0)\n",
    "    plt.show()\n",
    "\n",
    "show(b)"
   ]
  },
  {
   "cell_type": "code",
   "execution_count": null,
   "id": "b1456bae",
   "metadata": {},
   "outputs": [],
   "source": [
    "np.where(b == 2)"
   ]
  },
  {
   "cell_type": "code",
   "execution_count": null,
   "id": "4e5c6fb5",
   "metadata": {},
   "outputs": [],
   "source": [
    "start = next(zip(*np.where(b == 2)))\n",
    "start"
   ]
  },
  {
   "cell_type": "code",
   "execution_count": null,
   "id": "469d9a0b",
   "metadata": {},
   "outputs": [],
   "source": [
    "np.where(b == 0)"
   ]
  },
  {
   "cell_type": "code",
   "execution_count": null,
   "id": "3095110a",
   "metadata": {},
   "outputs": [],
   "source": [
    "np.swapaxes(np.where(b == 0), 0, 1)"
   ]
  },
  {
   "cell_type": "code",
   "execution_count": null,
   "id": "f96e179e",
   "metadata": {},
   "outputs": [],
   "source": [
    "a = box(30,30)\n",
    "show(a)"
   ]
  },
  {
   "cell_type": "code",
   "execution_count": null,
   "id": "bbf79b04",
   "metadata": {},
   "outputs": [],
   "source": [
    "def maze1(arr):\n",
    "    unfilled = np.swapaxes(np.where(arr == 0), 0, 1)\n",
    "    np.random.shuffle(unfilled)\n",
    "\n",
    "    start = next(zip(*np.where(arr == 2)))\n",
    "    arr = np.copy(arr)\n",
    "    arr[arr == 2] = 0\n",
    "\n",
    "    for lc in unfilled:\n",
    "        lc = tuple(lc)\n",
    "        arr[lc] = 1\n",
    "        t = flood_fill(arr, start, 1)\n",
    "        if np.any(t == 0):\n",
    "            arr[lc] = 0\n",
    "\n",
    "    arr[arr == 0] = 2\n",
    "    return arr\n",
    "\n",
    "show(maze1(a))"
   ]
  },
  {
   "cell_type": "code",
   "execution_count": null,
   "id": "355a9acd",
   "metadata": {},
   "outputs": [],
   "source": [
    "def maze2(arr):\n",
    "    unfilled = np.swapaxes(np.where(arr == 0), 0, 1)\n",
    "    np.random.shuffle(unfilled)\n",
    "\n",
    "    start = next(zip(*np.where(arr == 2)))\n",
    "    arr = np.copy(arr)\n",
    "    arr[arr == 2] = 0\n",
    "\n",
    "    for lc in unfilled:\n",
    "        lc = tuple(lc)\n",
    "        arr[lc] = 1\n",
    "        t = flood_fill(arr, start, 1, connectivity=1)\n",
    "        if np.any(t == 0):\n",
    "            arr[lc] = 0\n",
    "\n",
    "    arr[arr == 0] = 2\n",
    "    return arr\n",
    "\n",
    "show(maze2(a))"
   ]
  },
  {
   "cell_type": "code",
   "execution_count": null,
   "id": "d3464fc8",
   "metadata": {},
   "outputs": [],
   "source": [
    "neighbours = np.array([\n",
    "    [0, 1, 0],\n",
    "    [1, 0, 1],\n",
    "    [0, 1, 0]], dtype=np.uint8)\n",
    "\n",
    "def maze3(arr):\n",
    "    unfilled = np.swapaxes(np.where(arr == 0), 0, 1)\n",
    "    np.random.shuffle(unfilled)\n",
    "\n",
    "    start = next(zip(*np.where(arr == 2)))\n",
    "    arr = np.copy(arr)\n",
    "    arr[arr == 2] = 0\n",
    "\n",
    "    for lc in unfilled:\n",
    "        lc = tuple(lc)\n",
    "        \n",
    "        y, x = lc\n",
    "        if np.sum(neighbours * arr[y-1:y+2, x-1:x+2]) > 2:\n",
    "            continue\n",
    "        \n",
    "        arr[lc] = 1\n",
    "        t = flood_fill(arr, start, 1, connectivity=1)\n",
    "        if np.any(t == 0):\n",
    "            arr[lc] = 0\n",
    "\n",
    "    arr[arr == 0] = 2\n",
    "    return arr\n",
    "\n",
    "m = maze3(a)\n",
    "show(m)"
   ]
  },
  {
   "cell_type": "code",
   "execution_count": null,
   "id": "59f96658",
   "metadata": {},
   "outputs": [],
   "source": [
    "# spoiler\n",
    "t = flood_fill(m, (0,0), 0)\n",
    "show(t)"
   ]
  },
  {
   "cell_type": "code",
   "execution_count": null,
   "id": "2ec9684f",
   "metadata": {},
   "outputs": [],
   "source": [
    "c = box(31, 31)\n",
    "c[::2, ::2] = 1\n",
    "c[1::2, 1::2] = 2\n",
    "show(c)"
   ]
  },
  {
   "cell_type": "code",
   "execution_count": null,
   "id": "32a22c79",
   "metadata": {},
   "outputs": [],
   "source": [
    "sm = maze3(c)\n",
    "show(sm)"
   ]
  },
  {
   "cell_type": "code",
   "execution_count": null,
   "id": "5e52e2d5",
   "metadata": {
    "scrolled": false
   },
   "outputs": [],
   "source": [
    "# spoiler\n",
    "t = flood_fill(sm, (0,0), 0)\n",
    "show(t)"
   ]
  },
  {
   "cell_type": "code",
   "execution_count": null,
   "id": "e8002815",
   "metadata": {},
   "outputs": [],
   "source": [
    "brain = imread('brain-coral.jpg')\n",
    "plt.figure(figsize=(9, 9))\n",
    "im = plt.imshow(brain)"
   ]
  },
  {
   "cell_type": "code",
   "execution_count": null,
   "id": "1e365a77",
   "metadata": {},
   "outputs": [],
   "source": [
    "crop_brain = rgb2gray(brain[-550:-50,200:1000])\n",
    "plt.figure(figsize=(9, 9))\n",
    "im = plt.imshow(crop_brain, plt.cm.gray)"
   ]
  },
  {
   "cell_type": "code",
   "execution_count": null,
   "id": "7683fb85",
   "metadata": {},
   "outputs": [],
   "source": [
    "small_brain = resize(crop_brain, (50, 80))\n",
    "plt.figure(figsize=(9, 9))\n",
    "im = plt.imshow(small_brain, plt.cm.gray)"
   ]
  },
  {
   "cell_type": "code",
   "execution_count": null,
   "id": "a153f71a",
   "metadata": {},
   "outputs": [],
   "source": [
    "d = box(52, 82)\n",
    "d[d == 1] = 255\n",
    "d[d == 2] = 0\n",
    "d[1:-1, 1:-1] = 1 + small_brain * 253\n",
    "plt.figure(figsize=(12, 6))\n",
    "plt.imshow(d, plt.cm.gray)\n",
    "cb = plt.colorbar()"
   ]
  },
  {
   "cell_type": "code",
   "execution_count": null,
   "id": "56a45cba",
   "metadata": {},
   "outputs": [],
   "source": [
    "e = np.indices((52, 82))\n",
    "f = np.array([d, *e]).reshape((3, e.size // 2))\n",
    "g = np.swapaxes(f, 0, 1)\n",
    "g = g[(0 < f[0]) & (f[0] < 255)]  # exclude box\n",
    "g.view('u8,u8,u8').sort(order=['f0'], axis=0)\n",
    "g[::-1]"
   ]
  },
  {
   "cell_type": "code",
   "execution_count": null,
   "id": "ad90b50d",
   "metadata": {},
   "outputs": [],
   "source": [
    "def maze4(arr):\n",
    "    ndx = np.array([arr, *np.indices(arr.shape)])\n",
    "    ndx = ndx.reshape((3, ndx.size // 3))\n",
    "    unfilled = np.swapaxes(ndx, 0, 1)\n",
    "    unfilled = unfilled[(0 < ndx[0]) & (ndx[0] < 255)]\n",
    "    unfilled.view('u8,u8,u8').sort(order=['f0'], axis=0)\n",
    "    unfilled = unfilled[::-1]\n",
    "\n",
    "    start = next(zip(*np.where(arr == 0)))\n",
    "    arr = np.copy(arr)\n",
    "    arr[(arr > 0) & (arr <255)] = 0\n",
    "    arr[arr == 255] = 1\n",
    "\n",
    "    for val, y, x in unfilled:\n",
    "        lc = y, x\n",
    "        \n",
    "        try:\n",
    "            if np.sum(neighbours * arr[y-1:y+2, x-1:x+2]) > 2:\n",
    "                continue\n",
    "        except:\n",
    "            assert 0, (val, y, x, arr.shape)\n",
    "        \n",
    "        arr[lc] = 1\n",
    "        t = flood_fill(arr, start, 1, connectivity=1)\n",
    "        if np.any(t == 0):\n",
    "            arr[lc] = 0\n",
    "\n",
    "    arr[arr == 0] = 2\n",
    "    return arr\n",
    "\n",
    "bm = maze4(d)\n",
    "show(bm)"
   ]
  },
  {
   "cell_type": "code",
   "execution_count": null,
   "id": "a6502af6",
   "metadata": {},
   "outputs": [],
   "source": [
    "# spoiler\n",
    "t = flood_fill(bm, (0,0), 0)\n",
    "show(t)"
   ]
  },
  {
   "cell_type": "code",
   "execution_count": null,
   "id": "2c05ebf1",
   "metadata": {},
   "outputs": [],
   "source": []
  }
 ],
 "metadata": {
  "kernelspec": {
   "display_name": "Python 3",
   "language": "python",
   "name": "python3"
  },
  "language_info": {
   "codemirror_mode": {
    "name": "ipython",
    "version": 3
   },
   "file_extension": ".py",
   "mimetype": "text/x-python",
   "name": "python",
   "nbconvert_exporter": "python",
   "pygments_lexer": "ipython3",
   "version": "3.8.10"
  }
 },
 "nbformat": 4,
 "nbformat_minor": 5
}
