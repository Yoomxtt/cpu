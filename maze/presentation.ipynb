{
 "cells": [
  {
   "cell_type": "code",
   "execution_count": 1,
   "id": "c8b3c87e",
   "metadata": {},
   "outputs": [],
   "source": [
    "import numpy as np\n",
    "import matplotlib.pyplot as plt\n",
    "import matplotlib.patches as mpatches\n",
    "import matplotlib as mpl\n",
    "from skimage.segmentation import flood_fill\n",
    "from skimage.io import imread\n",
    "from skimage.color import rgb2gray\n",
    "from skimage.transform import resize\n",
    "from skimage.filters import threshold_local"
   ]
  },
  {
   "cell_type": "code",
   "execution_count": 2,
   "id": "aec9c8f7",
   "metadata": {
    "slideshow": {
     "slide_type": "subslide"
    }
   },
   "outputs": [
    {
     "data": {
      "text/plain": [
       "array([[1, 2, 1, 1, 1, 1],\n",
       "       [1, 0, 0, 0, 0, 1],\n",
       "       [1, 0, 0, 0, 0, 1],\n",
       "       [1, 0, 0, 0, 0, 1],\n",
       "       [1, 0, 0, 0, 0, 1],\n",
       "       [1, 1, 1, 1, 2, 1]], dtype=uint8)"
      ]
     },
     "execution_count": 2,
     "metadata": {},
     "output_type": "execute_result"
    }
   ],
   "source": [
    "def box(height, width):\n",
    "    arr = np.zeros((height, width), dtype=np.uint8)\n",
    "    # walls top, bottom, left, right = 1\n",
    "    arr[0] = arr[-1] = arr[..., 0] = arr[..., -1] = 1\n",
    "    # start and end locations = 2\n",
    "    arr[0, 1] = arr[-1, -2] = 2\n",
    "    return arr\n",
    "\n",
    "b = box(6, 6)\n",
    "b"
   ]
  },
  {
   "cell_type": "code",
   "execution_count": null,
   "id": "93ce5a24",
   "metadata": {},
   "outputs": [],
   "source": [
    "mpl.cm.inferno.resampled(3)"
   ]
  },
  {
   "cell_type": "code",
   "execution_count": 3,
   "id": "10c94396",
   "metadata": {},
   "outputs": [
    {
     "data": {
      "image/png": "[encoded data removed]",
      "text/plain": [
       "<Figure size 648x648 with 1 Axes>"
      ]
     },
     "metadata": {
      "needs_background": "light"
     },
     "output_type": "display_data"
    }
   ],
   "source": [
    "palette = mpl.cm.inferno.resampled(3).colors\n",
    "labels = [\"0: unfilled\", \"1: wall\", \"2: passage\"]\n",
    "\n",
    "def show(arr):\n",
    "    plt.figure(figsize=(9, 9))\n",
    "    im = plt.imshow(palette[arr])\n",
    "    # create a legend on the side\n",
    "    patches = [mpatches.Patch(color=c, label=l) for c, l in zip(palette, labels)]\n",
    "    plt.legend(handles=patches, bbox_to_anchor=(1.1, 1), loc=2, borderaxespad=0)\n",
    "    plt.show()\n",
    "\n",
    "show(b)"
   ]
  },
  {
   "cell_type": "code",
   "execution_count": null,
   "id": "b1456bae",
   "metadata": {},
   "outputs": [],
   "source": [
    "np.where(b == 2)"
   ]
  },
  {
   "cell_type": "code",
   "execution_count": null,
   "id": "4e5c6fb5",
   "metadata": {},
   "outputs": [],
   "source": [
    "start = tuple(coord[0] for coord in np.where(b == 2))\n",
    "start"
   ]
  },
  {
   "cell_type": "code",
   "execution_count": null,
   "id": "469d9a0b",
   "metadata": {},
   "outputs": [],
   "source": [
    "np.where(b == 0)"
   ]
  },
  {
   "cell_type": "code",
   "execution_count": null,
   "id": "3095110a",
   "metadata": {},
   "outputs": [],
   "source": [
    "np.swapaxes(np.where(b == 0), 0, 1)"
   ]
  },
  {
   "cell_type": "code",
   "execution_count": null,
   "id": "f96e179e",
   "metadata": {},
   "outputs": [],
   "source": [
    "a = box(30, 30)\n",
    "show(a)"
   ]
  },
  {
   "cell_type": "code",
   "execution_count": null,
   "id": "bbf79b04",
   "metadata": {},
   "outputs": [],
   "source": [
    "def maze1(arr):\n",
    "    unfilled = np.swapaxes(np.where(arr == 0), 0, 1)\n",
    "    np.random.shuffle(unfilled)\n",
    "\n",
    "    start = tuple(coord[0] for coord in np.where(b == 2))\n",
    "    arr = np.copy(arr)\n",
    "    arr[arr == 2] = 0\n",
    "\n",
    "    for lc in unfilled:\n",
    "        lc = tuple(lc)\n",
    "        arr[lc] = 1\n",
    "        t = flood_fill(arr, start, 1)\n",
    "        if np.any(t == 0):\n",
    "            arr[lc] = 0\n",
    "\n",
    "    arr[arr == 0] = 2\n",
    "    return arr\n",
    "\n",
    "show(maze1(a))"
   ]
  },
  {
   "cell_type": "code",
   "execution_count": null,
   "id": "355a9acd",
   "metadata": {},
   "outputs": [],
   "source": [
    "def maze2(arr):\n",
    "    unfilled = np.swapaxes(np.where(arr == 0), 0, 1)\n",
    "    np.random.shuffle(unfilled)\n",
    "\n",
    "    start = tuple(coord[0] for coord in np.where(b == 2))\n",
    "    arr = np.copy(arr)\n",
    "    arr[arr == 2] = 0\n",
    "\n",
    "    for lc in unfilled:\n",
    "        lc = tuple(lc)\n",
    "        arr[lc] = 1\n",
    "        t = flood_fill(arr, start, 1, connectivity=1)\n",
    "        if np.any(t == 0):\n",
    "            arr[lc] = 0\n",
    "\n",
    "    arr[arr == 0] = 2\n",
    "    return arr\n",
    "\n",
    "show(maze2(a))"
   ]
  },
  {
   "cell_type": "code",
   "execution_count": 21,
   "id": "d3464fc8",
   "metadata": {},
   "outputs": [],
   "source": [
    "# mask for cells above, below, left and right\n",
    "neighbours = np.array([\n",
    "    [0, 1, 0],\n",
    "    [1, 0, 1],\n",
    "    [0, 1, 0]], dtype=np.uint8)\n",
    "\n",
    "def maze3(arr):\n",
    "    unfilled = np.swapaxes(np.where(arr == 0), 0, 1)\n",
    "    np.random.shuffle(unfilled)\n",
    "\n",
    "    start = tuple(coord[0] for coord in np.where(arr == 2))\n",
    "    arr = np.copy(arr)\n",
    "    arr[arr == 2] = 0\n",
    "\n",
    "    for lc in unfilled:\n",
    "        lc = tuple(lc)\n",
    "        \n",
    "        y, x = lc\n",
    "        # protect dead-ends from becoming walls\n",
    "        if np.sum(neighbours * arr[y-1:y+2, x-1:x+2]) > 2:\n",
    "            continue\n",
    "        \n",
    "        arr[lc] = 1\n",
    "        t = flood_fill(arr, start, 1, connectivity=1)\n",
    "        if np.any(t == 0):\n",
    "            arr[lc] = 0\n",
    "\n",
    "    arr[arr == 0] = 2\n",
    "    return arr\n",
    "\n",
    "#m = maze3(a)\n",
    "#show(m)"
   ]
  },
  {
   "cell_type": "code",
   "execution_count": null,
   "id": "59f96658",
   "metadata": {},
   "outputs": [],
   "source": [
    "# spoiler\n",
    "t = flood_fill(m, (0, 0), 0)\n",
    "show(t)"
   ]
  },
  {
   "cell_type": "code",
   "execution_count": null,
   "id": "2ec9684f",
   "metadata": {},
   "outputs": [],
   "source": [
    "c = box(31, 31)\n",
    "c[::2, ::2] = 1  # walls on even (y, x) values\n",
    "c[1::2, 1::2] = 2  # passages on odd (y, x) values\n",
    "show(c)"
   ]
  },
  {
   "cell_type": "code",
   "execution_count": null,
   "id": "9edb9a21",
   "metadata": {},
   "outputs": [],
   "source": [
    "from skimage.io import imsave\n",
    "imsave('grid_pattern.png', palette[c])"
   ]
  },
  {
   "cell_type": "code",
   "execution_count": null,
   "id": "32a22c79",
   "metadata": {},
   "outputs": [],
   "source": [
    "sm = maze3(c)\n",
    "show(sm)"
   ]
  },
  {
   "cell_type": "code",
   "execution_count": null,
   "id": "5e52e2d5",
   "metadata": {
    "scrolled": false
   },
   "outputs": [],
   "source": [
    "# spoiler\n",
    "t = flood_fill(sm, (0,0), 0)\n",
    "show(t)"
   ]
  },
  {
   "cell_type": "code",
   "execution_count": null,
   "id": "e8002815",
   "metadata": {},
   "outputs": [],
   "source": [
    "brain = imread('brain-coral.jpg')\n",
    "plt.figure(figsize=(9, 9))\n",
    "im = plt.imshow(brain)"
   ]
  },
  {
   "cell_type": "code",
   "execution_count": null,
   "id": "1e365a77",
   "metadata": {},
   "outputs": [],
   "source": [
    "crop_brain = rgb2gray(brain[-500:,200:1000])\n",
    "plt.figure(figsize=(15, 9))\n",
    "im = plt.imshow(crop_brain, plt.cm.gray)\n",
    "cb = plt.colorbar()"
   ]
  },
  {
   "cell_type": "code",
   "execution_count": null,
   "id": "872d02b4",
   "metadata": {},
   "outputs": [],
   "source": [
    "small_brain = resize(crop_brain, (50, 80))\n",
    "binary_brain = small_brain > threshold_local(small_brain, 15, 'mean')\n",
    "plt.figure(figsize=(9, 9))\n",
    "im = plt.imshow(binary_brain, plt.cm.gray)"
   ]
  },
  {
   "cell_type": "code",
   "execution_count": null,
   "id": "a153f71a",
   "metadata": {},
   "outputs": [],
   "source": [
    "d = box(52, 82)\n",
    "insert_brain = (binary_brain + 2) % 3 \n",
    "d[1:-1, 1:-1] = insert_brain\n",
    "show(d)"
   ]
  },
  {
   "cell_type": "code",
   "execution_count": null,
   "id": "529fd071",
   "metadata": {},
   "outputs": [],
   "source": [
    "imsave('brain_pattern.png', palette[d])"
   ]
  },
  {
   "cell_type": "code",
   "execution_count": null,
   "id": "ad90b50d",
   "metadata": {},
   "outputs": [],
   "source": [
    "bm = maze2(d)  # maze2 is better: don't need lots of extra dead-ends\n",
    "show(bm)"
   ]
  },
  {
   "cell_type": "code",
   "execution_count": null,
   "id": "a6502af6",
   "metadata": {},
   "outputs": [],
   "source": [
    "# spoiler\n",
    "t = flood_fill(bm, (0,0), 0)\n",
    "show(t)"
   ]
  },
  {
   "cell_type": "markdown",
   "id": "530cbecb",
   "metadata": {},
   "source": [
    "combine grid_pattern and brain_pattern above with image editor into a new template:\n",
    "\n",
    "use red component to convert back to 0:unfilled, 1: wall, 2: passage"
   ]
  },
  {
   "cell_type": "code",
   "execution_count": 24,
   "id": "8287d69b",
   "metadata": {},
   "outputs": [
    {
     "data": {
      "image/png": "[encoded data removed]",
      "text/plain": [
       "<Figure size 648x648 with 1 Axes>"
      ]
     },
     "metadata": {
      "needs_background": "light"
     },
     "output_type": "display_data"
    }
   ],
   "source": [
    "n = imread('combined_pattern.png')\n",
    "n = np.array((n[...,0] == 188) + (n[...,0] == 252) * 2, dtype=np.uint8)\n",
    "show(n)"
   ]
  },
  {
   "cell_type": "code",
   "execution_count": 25,
   "id": "bc612acd",
   "metadata": {},
   "outputs": [
    {
     "data": {
      "image/png": "[encoded data removed]",
      "text/plain": [
       "<Figure size 648x648 with 1 Axes>"
      ]
     },
     "metadata": {
      "needs_background": "light"
     },
     "output_type": "display_data"
    }
   ],
   "source": [
    "mn = maze3(n)\n",
    "show(mn)"
   ]
  },
  {
   "cell_type": "code",
   "execution_count": 26,
   "id": "7b8cf411",
   "metadata": {},
   "outputs": [
    {
     "data": {
      "image/png": "[encoded data removed]",
      "text/plain": [
       "<Figure size 648x648 with 1 Axes>"
      ]
     },
     "metadata": {
      "needs_background": "light"
     },
     "output_type": "display_data"
    }
   ],
   "source": [
    "# spoiler\n",
    "t = flood_fill(mn, (0,0), 0)\n",
    "show(t)"
   ]
  },
  {
   "cell_type": "code",
   "execution_count": null,
   "id": "4d40ffee",
   "metadata": {},
   "outputs": [],
   "source": [
    "np.savetxt('maze.txt', mn, '%1d', '')"
   ]
  },
  {
   "cell_type": "code",
   "execution_count": null,
   "id": "9514d83c",
   "metadata": {},
   "outputs": [],
   "source": []
  }
 ],
 "metadata": {
  "kernelspec": {
   "display_name": "Python 3",
   "language": "python",
   "name": "python3"
  },
  "language_info": {
   "codemirror_mode": {
    "name": "ipython",
    "version": 3
   },
   "file_extension": ".py",
   "mimetype": "text/x-python",
   "name": "python",
   "nbconvert_exporter": "python",
   "pygments_lexer": "ipython3",
   "version": "3.8.10"
  }
 },
 "nbformat": 4,
 "nbformat_minor": 5
}
