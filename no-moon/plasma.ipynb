{
 "cells": [
  {
   "cell_type": "code",
   "execution_count": 28,
   "id": "0c311c15-eeb2-44af-99c7-38a90a5905a4",
   "metadata": {},
   "outputs": [],
   "source": [
    "import numpy as np\n",
    "import matplotlib.pyplot as plt\n",
    "SZ = (4, 20)"
   ]
  },
  {
   "cell_type": "code",
   "execution_count": 13,
   "id": "9756a569-4cdd-41a7-8fb0-1fe6a8d701c0",
   "metadata": {},
   "outputs": [
    {
     "data": {
      "text/plain": [
       "array([[0., 0., 0., 0., 0., 0., 0., 0., 0., 0., 0., 0., 0., 0., 0., 0.,\n",
       "        0., 0., 0., 0.],\n",
       "       [0., 0., 0., 0., 0., 0., 0., 0., 0., 0., 0., 0., 0., 0., 0., 0.,\n",
       "        0., 0., 0., 0.],\n",
       "       [0., 0., 0., 0., 0., 0., 0., 0., 0., 0., 0., 0., 0., 0., 0., 0.,\n",
       "        0., 0., 0., 0.],\n",
       "       [0., 0., 0., 0., 0., 0., 0., 0., 0., 0., 0., 0., 0., 0., 0., 0.,\n",
       "        0., 0., 0., 0.]])"
      ]
     },
     "execution_count": 13,
     "metadata": {},
     "output_type": "execute_result"
    }
   ],
   "source": [
    "a = np.empty((4, 20))\n",
    "a.fill(0)\n",
    "a"
   ]
  },
  {
   "cell_type": "code",
   "execution_count": 26,
   "id": "8eed11fb-4b73-4b22-b23c-375dd1eef87f",
   "metadata": {},
   "outputs": [
    {
     "data": {
      "text/plain": [
       "array([[ 0.,  1.,  2.,  3.,  4.,  5.,  6.,  7.,  8.,  9., 10., 11., 12.,\n",
       "        13., 14., 15., 16., 17., 18., 19.],\n",
       "       [ 5.,  6.,  7.,  8.,  9., 10., 11., 12., 13., 14., 15., 16., 17.,\n",
       "        18., 19., 20., 21., 22., 23., 24.],\n",
       "       [10., 11., 12., 13., 14., 15., 16., 17., 18., 19., 20., 21., 22.,\n",
       "        23., 24., 25., 26., 27., 28., 29.],\n",
       "       [15., 16., 17., 18., 19., 20., 21., 22., 23., 24., 25., 26., 27.,\n",
       "        28., 29., 30., 31., 32., 33., 34.]])"
      ]
     },
     "execution_count": 26,
     "metadata": {},
     "output_type": "execute_result"
    }
   ],
   "source": [
    "r = np.fromfunction(\n",
    "    lambda y, x: x + y * 5, SZ)\n",
    "r\n"
   ]
  },
  {
   "cell_type": "code",
   "execution_count": 27,
   "id": "095791ca-4865-45e9-89df-08f4e56f3e5b",
   "metadata": {},
   "outputs": [
    {
     "data": {
      "image/png": "[encoded data removed]",
      "text/plain": [
       "<Figure size 432x288 with 1 Axes>"
      ]
     },
     "metadata": {
      "needs_background": "light"
     },
     "output_type": "display_data"
    }
   ],
   "source": [
    "plt.imshow(r)\n",
    "plt.show()"
   ]
  },
  {
   "cell_type": "code",
   "execution_count": 47,
   "id": "ac2957fd-a881-4731-9c5f-8b9f7a821475",
   "metadata": {},
   "outputs": [
    {
     "data": {
      "text/plain": [
       "array([[-0.19171972,  0.71277009,  0.9789688 ,  0.3780108 , -0.54995318,\n",
       "        -0.99951869, -0.61807681,  0.22419478,  0.85225051,  0.99994652,\n",
       "         0.99994652,  0.85225051,  0.22419478, -0.61807681, -0.99951869,\n",
       "        -0.54995318,  0.3780108 ,  0.9789688 ,  0.71277009, -0.19171972],\n",
       "       [-0.08825586,  0.78955577,  0.94364057,  0.23383201, -0.68928725,\n",
       "        -0.98299205, -0.38383075,  0.55809058,  0.99994652,  0.64963694,\n",
       "         0.64963694,  0.99994652,  0.55809058, -0.38383075, -0.98299205,\n",
       "        -0.68928725,  0.23383201,  0.94364057,  0.78955577, -0.08825586],\n",
       "       [-0.08825586,  0.78955577,  0.94364057,  0.23383201, -0.68928725,\n",
       "        -0.98299205, -0.38383075,  0.55809058,  0.99994652,  0.64963694,\n",
       "         0.64963694,  0.99994652,  0.55809058, -0.38383075, -0.98299205,\n",
       "        -0.68928725,  0.23383201,  0.94364057,  0.78955577, -0.08825586],\n",
       "       [-0.19171972,  0.71277009,  0.9789688 ,  0.3780108 , -0.54995318,\n",
       "        -0.99951869, -0.61807681,  0.22419478,  0.85225051,  0.99994652,\n",
       "         0.99994652,  0.85225051,  0.22419478, -0.61807681, -0.99951869,\n",
       "        -0.54995318,  0.3780108 ,  0.9789688 ,  0.71277009, -0.19171972]])"
      ]
     },
     "execution_count": 47,
     "metadata": {},
     "output_type": "execute_result"
    }
   ],
   "source": [
    "h = np.sin(np.fromfunction(lambda y, x: np.hypot(9.5-x, 1.5-y), SZ))\n",
    "h"
   ]
  },
  {
   "cell_type": "code",
   "execution_count": 48,
   "id": "4aba4dad-3a7f-477f-aed1-c7ef3de372a0",
   "metadata": {},
   "outputs": [
    {
     "data": {
      "image/png": "[encoded data removed]",
      "text/plain": [
       "<Figure size 432x288 with 1 Axes>"
      ]
     },
     "metadata": {
      "needs_background": "light"
     },
     "output_type": "display_data"
    }
   ],
   "source": [
    "plt.imshow(h)\n",
    "plt.show()"
   ]
  },
  {
   "cell_type": "code",
   "execution_count": 77,
   "id": "2f8dd385-cec4-4c4b-9baa-13e1efb48e70",
   "metadata": {},
   "outputs": [
    {
     "data": {
      "image/png": "[encoded data removed]",
      "text/plain": [
       "<Figure size 432x288 with 1 Axes>"
      ]
     },
     "metadata": {
      "needs_background": "light"
     },
     "output_type": "display_data"
    }
   ],
   "source": [
    "im = np.fromfunction(lambda y,x: np.sin(.9*(x+10)/(5+.5*np.cos(y))) * np.cos(2*(y)/(6+.9*np.sin(x))), (20,20))\n",
    "plt.imshow(im)\n",
    "plt.show()"
   ]
  },
  {
   "cell_type": "code",
   "execution_count": null,
   "id": "ef11c781-a17a-4431-8e88-41ad99731249",
   "metadata": {},
   "outputs": [],
   "source": []
  }
 ],
 "metadata": {
  "kernelspec": {
   "display_name": "Python 3",
   "language": "python",
   "name": "python3"
  },
  "language_info": {
   "codemirror_mode": {
    "name": "ipython",
    "version": 3
   },
   "file_extension": ".py",
   "mimetype": "text/x-python",
   "name": "python",
   "nbconvert_exporter": "python",
   "pygments_lexer": "ipython3",
   "version": "3.8.10"
  }
 },
 "nbformat": 4,
 "nbformat_minor": 5
}
